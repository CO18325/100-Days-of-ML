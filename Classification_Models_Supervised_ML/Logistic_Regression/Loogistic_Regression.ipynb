{
 "cells": [
  {
   "cell_type": "markdown",
   "metadata": {},
   "source": [
    "# Logistic Regression\n",
    "\n",
    "It is Classification Algorithm which is used to assign observations to discrete set of classes.\n",
    "\n",
    "One of the most popularexample of it is Email spam classifier, Online transaction fraud classifier it uses a sigmoid function to give output probability value.\n",
    "\n",
    "Logistic regression predicts that something is True or False .\n",
    "\n",
    "## What are the types of Logistic Regression:\n",
    "\n",
    "> Binary (eg. Tumour  Malignant or Benign, Email spam or not spam.)\n",
    "\n",
    "> Multi-linear functions failsClass (eg. Classification between Cats Dogs Sheeps etc)\n",
    "\n",
    "It isa predictive analysis algorithm and mainly it is based on the probability concept.\n",
    "\n",
    "![title](images/Logistic.png)\n",
    "\n",
    "Linear regression can be called logistic regression but the Logistic Regression uses more complex cost function 'Sigmoid Function' \n",
    "\n",
    "The Hyptothesis of this Logistic Function is between 0 and 1.\n",
    "\n",
    "![title](images/Logistic1.png)\n",
    "\n",
    "## What is the Sigmoid Function?\n",
    "\n",
    "In order to map predicted values to probabilities, we use the Sigmoid function. The function maps any real value into another value between 0 and 1. In machine learning, we use sigmoid to map predictions to probabilities.\n",
    "\n",
    "![title](images/Logistic2.png)\n",
    "\n",
    "For Linear Regression We used a formula of the Hypothesis i.e \n",
    "![title](images/Logistic4.png)\n",
    "\n",
    "But for logistic regression we will modify it a little bit :\n",
    "![title](images/Logistic3.png)\n",
    "\n",
    "The cost function for logistic regression is diffrent from the Linear Regression:\n",
    "![title](images/Logistic5.png)\n",
    "![title](images/Logistic6.png)\n",
    "\n",
    "### Setting Up the Threshold value for counting the probability cases :\n",
    "\n",
    "![title](images/Logistic7.png)\n",
    "\n",
    "In this figure the threshold valueof the graph is set to 0.5 so that any value above 0.5 will be predicting the events probability to be 1 and any event below the 0.5 will predict its probability aas 0\n",
    "\n",
    "I.e now we can predict the event probability as true and false.\n",
    "\n",
    "### Maths Behind the logistic regression sigmoid function : -\n",
    "\n",
    "![image](Images/math1.png)\n",
    "In this we are finding the odds of the event as p\n",
    "\n",
    "now we will eqaute it in the odds in the equation of linear regression line:\n",
    "![image](Images/math2.png)\n",
    "\n",
    "by solving it we will get the sigmoid function for the logistic regression."
   ]
  },
  {
   "cell_type": "code",
   "execution_count": null,
   "metadata": {},
   "outputs": [],
   "source": []
  }
 ],
 "metadata": {
  "kernelspec": {
   "display_name": "Python 3",
   "language": "python",
   "name": "python3"
  },
  "language_info": {
   "codemirror_mode": {
    "name": "ipython",
    "version": 3
   },
   "file_extension": ".py",
   "mimetype": "text/x-python",
   "name": "python",
   "nbconvert_exporter": "python",
   "pygments_lexer": "ipython3",
   "version": "3.7.3"
  }
 },
 "nbformat": 4,
 "nbformat_minor": 2
}
