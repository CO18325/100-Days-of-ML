{
 "cells": [
  {
   "cell_type": "markdown",
   "metadata": {},
   "source": [
    "# Polynomial Regression\n",
    "\n",
    "It is a type of linear regression in which the basic diffrence is that we modify the curvature of the linear line into a curve.\n",
    "It is basically used when the given data does not follow the linear relationship in graph so we modify the line according to the curve the data is following so that we can reduce the errors distances from the line \n",
    "\n",
    "Linearity and nonlinearity of the model is not dependent on the curve graph will form .. instead it depends upon the variableswe are using to plot the relationship of the model\n",
    "\n",
    "![title](poly1.png)\n",
    "\n",
    "### Example :\n",
    "\n",
    "![title](poly2.png)\n",
    "\n",
    "Like in this example if we try to fit a line of best fit the errors will be maximum but if wwe fit a line like this we can manage to reduce the errors on a large scale adding b2x1^2 will change the line ito this curve\n",
    "\n",
    "### Use Case :\n",
    "\n",
    "This regression type will be handy in showing that how the dissease spreadcausedin aparticular area. While using the Polynomial Linear Regression we get better results then SLR and MLR "
   ]
  },
  {
   "cell_type": "code",
   "execution_count": null,
   "metadata": {},
   "outputs": [],
   "source": []
  },
  {
   "cell_type": "code",
   "execution_count": null,
   "metadata": {},
   "outputs": [],
   "source": [
    "l"
   ]
  }
 ],
 "metadata": {
  "kernelspec": {
   "display_name": "Python 3",
   "language": "python",
   "name": "python3"
  },
  "language_info": {
   "codemirror_mode": {
    "name": "ipython",
    "version": 3
   },
   "file_extension": ".py",
   "mimetype": "text/x-python",
   "name": "python",
   "nbconvert_exporter": "python",
   "pygments_lexer": "ipython3",
   "version": "3.7.3"
  }
 },
 "nbformat": 4,
 "nbformat_minor": 2
}
