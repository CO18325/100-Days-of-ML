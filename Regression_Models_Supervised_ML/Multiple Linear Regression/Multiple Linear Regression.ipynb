{
 "cells": [
  {
   "cell_type": "markdown",
   "metadata": {},
   "source": [
    "# Multiple Linear Regression\n",
    "\n",
    "It is Basically the extended version of Simple Linear Regression and the key diffrence in it is that it can predict the values of many explanatory variable.\n",
    "\n",
    "![title](Formula.png)\n",
    "\n",
    "### Explaining Multiple Linear Regression\n",
    "\n",
    "A simple linear regression is a function that allows an analyst or statistician to make predictions about one variable based on the information that is known about another variable. Linear regression can only be used when one has two continuous variables—an independent variable and a dependent variable. The independent variable is the parameter that is used to calculate the dependent variable or outcome. A multiple regression model extends to several explanatory variables.\n",
    "\n",
    "The multiple regression model is based on the following assumptions:\n",
    "```\n",
    " There is a linear relationship between the dependent variables and the independent variables.\n",
    "\n",
    " The independent variables are not too highly correlated with each other.\n",
    "\n",
    " yi observations are selected independently and randomly from the population.\n",
    "\n",
    " Residuals should be normally distributed with a mean of 0 and variance σ.\n",
    "```\n",
    "R-squared is the coefficient of determination And remeber that R-sq can only be between 0 and 1 \n",
    "\n",
    "### Uses of MLR :-\n",
    "\n",
    "This algorithm is mostly implemented in predicting market values of the product as it will plot the n no.of varibles on the graph and now we can distinguish whivh factor is affecting the prices most .. and based on that we can earn profit.\n",
    "\n",
    "### The Difference Between Linear and Multiple Regression\n",
    "\n",
    "Linear (OLS) regression compares the response of a dependent variable given a change in some explanatory variable. However, it is rare that a dependent variable is explained by only one variable. In this case, an analyst uses multiple regression, which attempts to explain a dependent variable using more than one independent variable. Multiple regressions can be linear and nonlinear."
   ]
  },
  {
   "cell_type": "code",
   "execution_count": 4,
   "metadata": {},
   "outputs": [
    {
     "data": {
      "text/plain": [
       "0.9347068473282423"
      ]
     },
     "execution_count": 4,
     "metadata": {},
     "output_type": "execute_result"
    }
   ],
   "source": [
    "# Importing the libraries\n",
    "import numpy as np\n",
    "import matplotlib.pyplot as plt\n",
    "import pandas as pd\n",
    "\n",
    "# Importing the dataset\n",
    "dataset = pd.read_csv('50_Startups.csv')\n",
    "X = dataset.iloc[:, :-1] # Removing the values of the last coloumn\n",
    "y = dataset.iloc[:, 4] # Removing all values except the last coloumn  \n",
    "\n",
    "#Convert the column into categorical columns\n",
    "\n",
    "states=pd.get_dummies(X['State'],drop_first=True) # Getting the dummies of the values of row into the ccolumns of binary data.\n",
    "# Simoultaniously droping out the First coloumn of the binary data of dummies.  \n",
    "\n",
    "# Drop the state coulmn\n",
    "X=X.drop('State',axis=1)\n",
    "\n",
    "# concat the dummy variables\n",
    "X=pd.concat([X,states],axis=1)\n",
    "\n",
    "# Splitting the dataset into the Training set and Test set\n",
    "from sklearn.model_selection import train_test_split\n",
    "X_train, X_test, y_train, y_test = train_test_split(X, y, test_size = 0.2, random_state = 0)\n",
    "# spliting the data into two i.e test = 0.2% of data and train = 0.8% of the data.\n",
    "\n",
    "# Fitting Multiple Linear Regression to the Training set\n",
    "from sklearn.linear_model import LinearRegression\n",
    "regressor = LinearRegression()\n",
    "regressor.fit(X_train, y_train)\n",
    "\n",
    "# Predicting the Test set results\n",
    "y_pred = regressor.predict(X_test)\n",
    "\n",
    "from sklearn.metrics import r2_score\n",
    "score=r2_score(y_test,y_pred) # Predicting the accuracy of the modelwe have created.\n",
    "\n",
    "score # This is basically thevalue of R^2 which determines that how well is our model created."
   ]
  },
  {
   "cell_type": "code",
   "execution_count": null,
   "metadata": {},
   "outputs": [],
   "source": []
  },
  {
   "cell_type": "code",
   "execution_count": null,
   "metadata": {},
   "outputs": [],
   "source": []
  }
 ],
 "metadata": {
  "kernelspec": {
   "display_name": "Python 3",
   "language": "python",
   "name": "python3"
  },
  "language_info": {
   "codemirror_mode": {
    "name": "ipython",
    "version": 3
   },
   "file_extension": ".py",
   "mimetype": "text/x-python",
   "name": "python",
   "nbconvert_exporter": "python",
   "pygments_lexer": "ipython3",
   "version": "3.7.3"
  }
 },
 "nbformat": 4,
 "nbformat_minor": 2
}
